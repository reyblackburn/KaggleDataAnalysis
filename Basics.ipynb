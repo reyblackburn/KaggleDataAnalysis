{
 "cells": [
  {
   "cell_type": "markdown",
   "metadata": {},
   "source": [
    "# INTRO\n",
    "This project is to identify if there is any relationship between years of experience and salary as well as proportions of users that use Python, R, and SQL.  We will be using Python and data received from Kaggle in 2021 to conduct these analysis."
   ]
  },
  {
   "cell_type": "markdown",
   "metadata": {},
   "source": [
    "Let us load in the data from the Kaggle csv"
   ]
  },
  {
   "cell_type": "code",
   "execution_count": 5,
   "metadata": {},
   "outputs": [],
   "source": [
    "import csv\n",
    "\n",
    "with open('kaggle2021-short.csv') as f:\n",
    "    reader = csv.reader(f, delimiter=\",\")\n",
    "    kaggle_data = list(reader)\n",
    "\n",
    "column_names = kaggle_data[0]\n",
    "survey_responses = kaggle_data[1:]\n",
    "\n",
    "for survey in survey_responses:\n",
    "    #For years_experience convert to float\n",
    "    survey[0] = float(survey[0])\n",
    "    #For Python convert to Bool\n",
    "    if survey[1] == \"TRUE\":\n",
    "        survey[1] = True\n",
    "    else:\n",
    "        survey[1] = False\n",
    "    #For R convert to Bool\n",
    "    if survey[2] == \"TRUE\":\n",
    "        survey[2] = True\n",
    "    else:\n",
    "        survey[2] = False\n",
    "    #For SQL convert to Bool\n",
    "    if survey[3] == \"TRUE\":\n",
    "        survey[3] = True\n",
    "    else:\n",
    "        survey[3] = False\n",
    "    #For most_used convert to None\n",
    "    if survey[4] == \"NONE\":\n",
    "        survey[4] = None\n",
    "    #For salary convert to int\n",
    "    survey[-1] = int(survey[-1])"
   ]
  },
  {
   "cell_type": "markdown",
   "metadata": {},
   "source": [
    "## Proportions\n",
    "We will begin by comparing the proportions of users who use Python, R, and SQL."
   ]
  },
  {
   "cell_type": "code",
   "execution_count": 6,
   "metadata": {},
   "outputs": [
    {
     "name": "stdout",
     "output_type": "stream",
     "text": [
      "Number of Python users: 21860\n",
      "The proportion of Python users is: 84.16432449081739%\n",
      "Number of R users: 5335\n",
      "The propotion of R users is: 20.540561352173413%\n",
      "Number of SQL users: 10757\n",
      "The propotion of SQL users is: 41.41608593539445%\n"
     ]
    }
   ],
   "source": [
    "count_python = 0\n",
    "count_r = 0\n",
    "count_sql = 0\n",
    "\n",
    "for survey in survey_responses:\n",
    "    #Count Python\n",
    "    if survey[1] == True:\n",
    "        count_python += 1\n",
    "    #Count R\n",
    "    if survey[2] == True:\n",
    "        count_r += 1\n",
    "    #Count SQL\n",
    "    if survey[3] == True:\n",
    "        count_sql += 1\n",
    "\n",
    "proportion_python = count_python / len(survey_responses)\n",
    "proportion_r = count_r / len(survey_responses)\n",
    "proportion_sql = count_sql / len(survey_responses)\n",
    "\n",
    "print(\"Number of Python users: \" + str(count_python))\n",
    "print(\"The proportion of Python users is: \" + str(proportion_python * 100) + \"%\")\n",
    "print(\"Number of R users: \" + str(count_r))\n",
    "print(\"The propotion of R users is: \" + str(proportion_r * 100) + \"%\")\n",
    "print(\"Number of SQL users: \" + str(count_sql))\n",
    "print(\"The propotion of SQL users is: \" + str(proportion_sql * 100) + \"%\")"
   ]
  },
  {
   "cell_type": "markdown",
   "metadata": {},
   "source": [
    "Let us now look at the relationship between years of experience and compensation.  We would like to assume that compensation should increase with more years of experience."
   ]
  },
  {
   "cell_type": "code",
   "execution_count": 16,
   "metadata": {},
   "outputs": [
    {
     "name": "stdout",
     "output_type": "stream",
     "text": [
      "The minimum experience is: 0.0 The maximum experience is: 30.0 The Average experience is: 5.297231740653729\n",
      "The minimum compensation is: 0 The maximum compensation is: 1492951 The average compensation is: 53252.81696377007\n"
     ]
    }
   ],
   "source": [
    "#Lists to append experience and salary\n",
    "experience_coding = []\n",
    "compensation = []\n",
    "\n",
    "#Adding data to lists\n",
    "for survey in survey_responses:\n",
    "    experience_coding.append(survey[0])\n",
    "    compensation.append(survey[-1])\n",
    "\n",
    "min_years_experience = min(experience_coding)\n",
    "max_years_experience = max(experience_coding)\n",
    "avg_years_experience = sum(experience_coding) / len(experience_coding)\n",
    "print(\"The minimum experience is: \" + str(min_years_experience) + \" The maximum experience is: \" + str(max_years_experience) + \" The Average experience is: \" + str(avg_years_experience))\n",
    "\n",
    "min_compensation = min(compensation)\n",
    "max_compensation = max(compensation)\n",
    "avg_compensation = sum(compensation) / len(compensation)\n",
    "print(\"The minimum compensation is: \" + str(min_compensation) + \" The maximum compensation is: \" + str(max_compensation) + \" The average compensation is: \" + str(avg_compensation))\n"
   ]
  },
  {
   "cell_type": "markdown",
   "metadata": {},
   "source": [
    "### GROUPING\n",
    "We will now group the experience into 5 year divisions to conduct further analysis."
   ]
  },
  {
   "cell_type": "code",
   "execution_count": 8,
   "metadata": {},
   "outputs": [],
   "source": [
    "for survey in survey_responses:\n",
    "    if survey[0] < 5:\n",
    "        survey.append(\"Less than 5 years\")\n",
    "    elif survey[0] >= 5 and survey[0] < 10:\n",
    "        survey.append(\"Between 5 and 10 years\")\n",
    "    elif survey[0] >= 10 and survey[0] < 15:\n",
    "        survey.append(\"Between 10 and 15 years\")\n",
    "    elif survey[0] >= 15 and survey[0] < 20:\n",
    "        survey.append(\"Between 15 and 20 years\")\n",
    "    elif survey[0] >= 20 and survey[0] < 25:\n",
    "        survey.append(\"Between 20 and 25 years\")\n",
    "    else:\n",
    "        survey.append(\"25+ years\")\n"
   ]
  },
  {
   "cell_type": "markdown",
   "metadata": {},
   "source": [
    "Let us compare the different experience groups."
   ]
  },
  {
   "cell_type": "code",
   "execution_count": 22,
   "metadata": {},
   "outputs": [
    {
     "name": "stdout",
     "output_type": "stream",
     "text": [
      "18753 people less than 5 years\n",
      "3167 people between 5 - 10 years\n",
      "1118 people between 10 and 15 years\n",
      "1069 people between 15 and 20 years\n",
      "925 people between 20 and 25 years\n",
      "941 people with more than 25 years\n",
      "People with less than 5 years experience have an average salary of $45047.87484669119\n",
      "People between 5 and 10 years experience have an average salary of $59312.82033470161\n",
      "People between 10 and 15 years experience have an average salary of $80226.75581395348\n",
      "People between 15 and 20 years experience have an average salary of $75101.82694106642\n",
      "People between 20 and 25 years experience have an average salary of $103159.80432432433\n",
      "People with more than 25 years experience have an average salary of $90444.98512221042\n"
     ]
    }
   ],
   "source": [
    "less_than_five = []\n",
    "less_than_five_sum = 0\n",
    "five_between_ten = []\n",
    "five_between_ten_sum = 0\n",
    "ten_between_fifteen = []\n",
    "ten_between_fifteen_sum = 0\n",
    "fifteen_between_twenty = []\n",
    "fifteen_between_twenty_sum = 0\n",
    "twenty_between_twenty_five = []\n",
    "twenty_between_twenty_five_sum = 0\n",
    "twenty_five_plus = []\n",
    "twenty_five_plus_sum = 0\n",
    "\n",
    "for survey in survey_responses:\n",
    "    if survey[-1] == \"Less than 5 years\":\n",
    "        less_than_five.append(\"Less than 5 years\")\n",
    "        less_than_five_sum += survey[5]\n",
    "    elif survey[-1] == \"Between 5 and 10 years\":\n",
    "        five_between_ten.append(\"Between 5 and 10 years\")\n",
    "        five_between_ten_sum += survey[5]\n",
    "    elif survey[-1] == \"Between 10 and 15 years\":\n",
    "        ten_between_fifteen.append(\"Between 10 and 15 years\")\n",
    "        ten_between_fifteen_sum += survey[5]\n",
    "    elif survey[-1] == \"Between 15 and 20 years\":\n",
    "        fifteen_between_twenty.append(\"Between 15 and 20 years\")\n",
    "        fifteen_between_twenty_sum += survey[5]\n",
    "    elif survey[-1] == \"Between 20 and 25 years\":\n",
    "        twenty_between_twenty_five.append(\"Between 20 and 25 years\")\n",
    "        twenty_between_twenty_five_sum += survey[5]\n",
    "    else:\n",
    "        twenty_five_plus.append(\"25+ years\")\n",
    "        twenty_five_plus_sum += survey[5]\n",
    "        \n",
    "print(str(len(less_than_five)) + \" people less than 5 years\")\n",
    "print(str(len(five_between_ten)) + \" people between 5 - 10 years\")\n",
    "print(str(len(ten_between_fifteen)) + \" people between 10 and 15 years\")\n",
    "print(str(len(fifteen_between_twenty)) + \" people between 15 and 20 years\")\n",
    "print(str(len(twenty_between_twenty_five)) + \" people between 20 and 25 years\")\n",
    "print(str(len(twenty_five_plus)) + \" people with more than 25 years\")\n",
    "#Calculate averages\n",
    "below_five_avg = less_than_five_sum / len(less_than_five)\n",
    "between_five_and_ten_avg = five_between_ten_sum / len(five_between_ten)\n",
    "between_ten_and_fifteen_avg = ten_between_fifteen_sum / len(ten_between_fifteen)\n",
    "between_fifteen_and_twenty_avg = fifteen_between_twenty_sum / len(fifteen_between_twenty)\n",
    "between_twenty_and_twenty_five_avg = twenty_between_twenty_five_sum / len(twenty_between_twenty_five)\n",
    "twenty_five_plus_avg = twenty_five_plus_sum / len(twenty_five_plus)\n",
    "#Print out averages\n",
    "print(\"People with less than 5 years experience have an average salary of $\" +str(below_five_avg))\n",
    "print(\"People between 5 and 10 years experience have an average salary of $\" + str(between_five_and_ten_avg))\n",
    "print(\"People between 10 and 15 years experience have an average salary of $\" + str(between_ten_and_fifteen_avg))\n",
    "print(\"People between 15 and 20 years experience have an average salary of $\" + str(between_fifteen_and_twenty_avg))\n",
    "print(\"People between 20 and 25 years experience have an average salary of $\" + str(between_twenty_and_twenty_five_avg))\n",
    "print(\"People with more than 25 years experience have an average salary of $\" + str(twenty_five_plus_avg))"
   ]
  },
  {
   "cell_type": "markdown",
   "metadata": {},
   "source": [
    "## SUMMARY\n",
    "Looking at our analysis, we notice that the largest distribution of experience is with people with less than 5 years of experience.  Based on this observation, we have higher accuracy for people with less experience.  Comparing the average salary across our categories, we can conclude at with more experience there is an increase in salary. We could potentially run the analysis in groups of ten years instead of the difference by 5 years and see similar results, noticing that the averages are similar to each other."
   ]
  },
  {
   "cell_type": "code",
   "execution_count": null,
   "metadata": {},
   "outputs": [],
   "source": []
  }
 ],
 "metadata": {
  "kernelspec": {
   "display_name": "Python 3 (ipykernel)",
   "language": "python",
   "name": "python3"
  },
  "language_info": {
   "codemirror_mode": {
    "name": "ipython",
    "version": 3
   },
   "file_extension": ".py",
   "mimetype": "text/x-python",
   "name": "python",
   "nbconvert_exporter": "python",
   "pygments_lexer": "ipython3",
   "version": "3.10.6"
  }
 },
 "nbformat": 4,
 "nbformat_minor": 4
}
